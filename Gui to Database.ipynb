{
 "cells": [
  {
   "cell_type": "code",
   "execution_count": 44,
   "metadata": {},
   "outputs": [],
   "source": [
    "\n",
    "from tkinter import *\n",
    "import tkinter.ttk as ttk\n",
    "import tkinter as tk\n",
    "import sqlite3"
   ]
  },
  {
   "cell_type": "code",
   "execution_count": 45,
   "metadata": {},
   "outputs": [],
   "source": [
    "def clear():\n",
    "    entry_1.delete(0,tk.END)\n",
    "    entry_2.delete(0,tk.END)"
   ]
  },
  {
   "cell_type": "code",
   "execution_count": 52,
   "metadata": {},
   "outputs": [],
   "source": [
    "\n",
    "root = Tk()\n",
    "root.geometry('500x500')\n",
    "root.title(\"Registration Form\")\n",
    "\n",
    "\n",
    "Fullname=StringVar()\n",
    "Email=StringVar()\n",
    "var = IntVar()\n",
    "c=StringVar()\n",
    "var1= IntVar()\n",
    "var2=IntVar()\n",
    "\n",
    "\n",
    "def database():\n",
    "   name1=Fullname.get()\n",
    "   email=Email.get()\n",
    "   gender=var.get()\n",
    "   country=c.get()\n",
    "   prog=var1.get()\n",
    "   conn = sqlite3.connect('Form.db')\n",
    "   with conn:\n",
    "      cursor=conn.cursor()\n",
    "   cursor.execute('CREATE TABLE IF NOT EXISTS Student (Fullname TEXT,Email TEXT,Gender TEXT,country TEXT,Programming TEXT)')\n",
    "   cursor.execute('INSERT INTO Student (FullName,Email,Gender,country,Programming) VALUES(?,?,?,?,?)',(name1,email,gender,country,prog,))\n",
    "   conn.commit()\n",
    "   \n",
    "   \n",
    "             \n",
    "label_0 = Label(root, text=\"Registration form\",width=20,font=(\"bold\", 20))\n",
    "label_0.place(x=90,y=53)\n",
    "\n",
    "\n",
    "label_1 = Label(root, text=\"FullName\",width=20,font=(\"bold\", 10))\n",
    "label_1.place(x=80,y=130)\n",
    "\n",
    "entry_1 = Entry(root,textvar=Fullname)\n",
    "entry_1.place(x=240,y=130)\n",
    "\n",
    "label_2 = Label(root, text=\"Email\",width=20,font=(\"bold\", 10))\n",
    "label_2.place(x=68,y=180)\n",
    "\n",
    "entry_2 = Entry(root,textvar=Email)\n",
    "entry_2.place(x=240,y=180)\n",
    "\n",
    "label_3 = Label(root, text=\"Gender\",width=20,font=(\"bold\", 10))\n",
    "label_3.place(x=70,y=230)\n",
    "\n",
    "Radiobutton(root, text=\"Male\",padx = 5, variable=var, value=1).place(x=235,y=230)\n",
    "Radiobutton(root, text=\"Female\",padx = 20, variable=var, value=2).place(x=290,y=230)\n",
    "\n",
    "label_4 = Label(root, text=\"country\",width=20,font=(\"bold\", 10))\n",
    "label_4.place(x=70,y=280)\n",
    "\n",
    "list1 = ['Canada','India','UK','Nepal','Iceland','South Africa'];\n",
    "\n",
    "droplist=OptionMenu(root,c, *list1)\n",
    "droplist.config(width=15)\n",
    "c.set('select your country') \n",
    "droplist.place(x=240,y=280)\n",
    "\n",
    "label_4 = Label(root, text=\"Programming\",width=20,font=(\"bold\", 10))\n",
    "label_4.place(x=85,y=330)\n",
    "\n",
    "Checkbutton(root, text=\"java\", variable=var1,onvalue=1).place(x=235,y=330)\n",
    "Checkbutton(root, text=\"python\", variable=var1,onvalue=2).place(x=290,y=330)\n",
    "\n",
    "Button(root, text='Submit',width=20,bg='brown',fg='white',command=database).place(x=100,y=380)\n",
    "Button(root, text='Clear',width=20,bg='brown',fg='white',command=clear).place(x=300,y=380)\n",
    "\n",
    "root.mainloop()\n",
    "\n",
    "\n"
   ]
  },
  {
   "cell_type": "code",
   "execution_count": null,
   "metadata": {},
   "outputs": [],
   "source": []
  },
  {
   "cell_type": "code",
   "execution_count": 14,
   "metadata": {},
   "outputs": [],
   "source": []
  },
  {
   "cell_type": "code",
   "execution_count": 15,
   "metadata": {},
   "outputs": [],
   "source": []
  },
  {
   "cell_type": "code",
   "execution_count": null,
   "metadata": {},
   "outputs": [],
   "source": []
  }
 ],
 "metadata": {
  "kernelspec": {
   "display_name": "Python 3",
   "language": "python",
   "name": "python3"
  },
  "language_info": {
   "codemirror_mode": {
    "name": "ipython",
    "version": 3
   },
   "file_extension": ".py",
   "mimetype": "text/x-python",
   "name": "python",
   "nbconvert_exporter": "python",
   "pygments_lexer": "ipython3",
   "version": "3.7.6"
  }
 },
 "nbformat": 4,
 "nbformat_minor": 4
}
