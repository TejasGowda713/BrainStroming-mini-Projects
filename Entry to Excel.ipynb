{
 "cells": [
  {
   "cell_type": "code",
   "execution_count": 124,
   "metadata": {},
   "outputs": [],
   "source": [
    "import tkinter as tk\n",
    "import tkinter.ttk as ttk\n",
    "from openpyxl import *\n",
    "from tkinter.messagebox import showinfo"
   ]
  },
  {
   "cell_type": "code",
   "execution_count": 125,
   "metadata": {},
   "outputs": [
    {
     "data": {
      "text/plain": [
       "''"
      ]
     },
     "execution_count": 125,
     "metadata": {},
     "output_type": "execute_result"
    }
   ],
   "source": [
    "win = tk.Tk()\n",
    "win.title(\"Registration Form\")"
   ]
  },
  {
   "cell_type": "code",
   "execution_count": 126,
   "metadata": {},
   "outputs": [],
   "source": [
    "#c=1\n",
    "def save():\n",
    "    c=2\n",
    "    A='A'\n",
    "    B='B'\n",
    "    C='C'\n",
    "    f_name = entry.get()\n",
    "    l_name = entry1.get()\n",
    "    age = entry2.get()\n",
    "    \n",
    "    wb = Workbook()\n",
    "    ws = wb.active\n",
    "    ls = ['First Name','Last Name','Age']\n",
    "    #ws.append(ls)\n",
    "    \n",
    "    for i in range(c):\n",
    "        A=A+str(i)\n",
    "        B=B+str(i)\n",
    "        C=C+str(i)\n",
    "        ws[A] = f_name\n",
    "        ws[B] = l_name\n",
    "        ws[C] = age\n",
    "        c+=1\n",
    "\n",
    "        \n",
    "    wb.save(r'C:\\Users\\TEJAS GOWDA S\\Desktop\\py\\reg.xlsx')\n",
    "    showinfo(\"Saved\",'Your Entry has been Saved')\n",
    "    #data.clear()"
   ]
  },
  {
   "cell_type": "code",
   "execution_count": 127,
   "metadata": {},
   "outputs": [
    {
     "data": {
      "text/plain": [
       "str"
      ]
     },
     "execution_count": 127,
     "metadata": {},
     "output_type": "execute_result"
    }
   ],
   "source": [
    "i=1\n",
    "A='A'\n",
    "a = A+str(i)\n",
    "type(a)"
   ]
  },
  {
   "cell_type": "code",
   "execution_count": 128,
   "metadata": {},
   "outputs": [
    {
     "data": {
      "text/plain": [
       "' data=[f_name,l_name,age]\\n    ws.append(data)\\n    ws.append(()) '"
      ]
     },
     "execution_count": 128,
     "metadata": {},
     "output_type": "execute_result"
    }
   ],
   "source": [
    "'''ws['A1'] = 'First Name'\n",
    "    ws['B1'] = 'Last Name'\n",
    "    ws['C1'] = 'Age' '''\n",
    " \n",
    "    \n",
    "    \n",
    "''' data=[f_name,l_name,age]\n",
    "    ws.append(data)\n",
    "    ws.append(()) '''"
   ]
  },
  {
   "cell_type": "code",
   "execution_count": 129,
   "metadata": {},
   "outputs": [
    {
     "data": {
      "text/plain": [
       "'def btnClick():\\n    global counter\\n    counter += 1\\n\\n    workbook = xlwt.Workbook(encoding=\"utf-8\")\\n    sheet1 = workbook.add_sheet(\"python sheet1\")\\n    sheet1.write(0, counter, counter) # added counter to write\\n    workbook.save(\"PythonTest.xlsx\")\\n    print(\"Created\")'"
      ]
     },
     "execution_count": 129,
     "metadata": {},
     "output_type": "execute_result"
    }
   ],
   "source": [
    "'''def btnClick():\n",
    "    global counter\n",
    "    counter += 1\n",
    "\n",
    "    workbook = xlwt.Workbook(encoding=\"utf-8\")\n",
    "    sheet1 = workbook.add_sheet(\"python sheet1\")\n",
    "    sheet1.write(0, counter, counter) # added counter to write\n",
    "    workbook.save(\"PythonTest.xlsx\")\n",
    "    print(\"Created\")'''"
   ]
  },
  {
   "cell_type": "code",
   "execution_count": 130,
   "metadata": {},
   "outputs": [],
   "source": [
    "def clear():\n",
    "    entry.delete(0,tk.END)\n",
    "    entry1.delete(0,tk.END)\n",
    "    entry2.delete(0,tk.END)"
   ]
  },
  {
   "cell_type": "code",
   "execution_count": null,
   "metadata": {},
   "outputs": [
    {
     "name": "stderr",
     "output_type": "stream",
     "text": [
      "Exception in Tkinter callback\n",
      "Traceback (most recent call last):\n",
      "  File \"C:\\Users\\TEJAS GOWDA S\\anaconda3\\lib\\tkinter\\__init__.py\", line 1705, in __call__\n",
      "    return self.func(*args)\n",
      "  File \"<ipython-input-126-50a3f510c5ab>\", line 20, in save\n",
      "    ws[A] = f_name\n",
      "  File \"C:\\Users\\TEJAS GOWDA S\\anaconda3\\lib\\site-packages\\openpyxl\\worksheet\\worksheet.py\", line 309, in __setitem__\n",
      "    self[key].value = value\n",
      "AttributeError: 'tuple' object has no attribute 'value'\n"
     ]
    }
   ],
   "source": [
    "label = tk.Label(win,text='First Name :')\n",
    "label.grid(row=0,column=0,padx=8,pady=8)\n",
    "\n",
    "entry = tk.Entry(win)\n",
    "entry.grid(row=0,column=1,padx=8,pady=8)\n",
    "\n",
    "label1 = tk.Label(win,text='Last Name :')\n",
    "label1.grid(row=1,column=0,padx=8,pady=8)\n",
    "\n",
    "entry1 = tk.Entry(win)\n",
    "entry1.grid(row=1,column=1,padx=8,pady=8)\n",
    "\n",
    "label2 = tk.Label(win,text='Age :')\n",
    "label2.grid(row=2,column=0,padx=8,pady=8)\n",
    "\n",
    "entry2 = tk.Entry(win)\n",
    "entry2.grid(row=2,column=1,padx=8,pady=8)\n",
    "\n",
    "button = ttk.Button(win,text=\"Register\",command=save)\n",
    "button.grid(row=3,column=0,padx=8,pady=8)\n",
    "\n",
    "button2 = ttk.Button(win,text=\"Clear\",command=clear)\n",
    "button2.grid(row=3,column=1,padx=8,pady=8)\n",
    "\n",
    "win.mainloop()"
   ]
  },
  {
   "cell_type": "code",
   "execution_count": null,
   "metadata": {},
   "outputs": [],
   "source": []
  }
 ],
 "metadata": {
  "kernelspec": {
   "display_name": "Python 3",
   "language": "python",
   "name": "python3"
  },
  "language_info": {
   "codemirror_mode": {
    "name": "ipython",
    "version": 3
   },
   "file_extension": ".py",
   "mimetype": "text/x-python",
   "name": "python",
   "nbconvert_exporter": "python",
   "pygments_lexer": "ipython3",
   "version": "3.7.6"
  }
 },
 "nbformat": 4,
 "nbformat_minor": 4
}
