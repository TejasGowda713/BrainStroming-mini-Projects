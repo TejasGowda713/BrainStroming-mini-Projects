{
 "cells": [
  {
   "cell_type": "code",
   "execution_count": 1,
   "metadata": {},
   "outputs": [],
   "source": [
    "import requests\n",
    "from bs4 import BeautifulSoup\n",
    "import texttable as tt\n",
    "import csv"
   ]
  },
  {
   "cell_type": "code",
   "execution_count": 2,
   "metadata": {},
   "outputs": [],
   "source": [
    "url = \"https://en.wikipedia.org/wiki/List_of_Indian_states_by_wildlife_population\"\n",
    "page = requests.get(url)\n",
    "soup = BeautifulSoup(page.text, \"html.parser\")"
   ]
  },
  {
   "cell_type": "code",
   "execution_count": 3,
   "metadata": {},
   "outputs": [],
   "source": [
    "data = []\n",
    "header = (' State', ' Tigers', ' Elephants', ' Leopards', ' Lions')\n",
    "data_iterator = iter(soup.find_all('td'))"
   ]
  },
  {
   "cell_type": "code",
   "execution_count": 4,
   "metadata": {},
   "outputs": [],
   "source": [
    "while True:\n",
    "    try:\n",
    "        State = next(data_iterator).text\n",
    "        Tigers = next(data_iterator).text\n",
    "        Elephants = next(data_iterator).text\n",
    "        Leopards = next(data_iterator).text\n",
    "        Lions = next(data_iterator).text\n",
    "        data.append((\n",
    "            State,\n",
    "            (Tigers.replace(', ', '')),\n",
    "            (Elephants.replace(', ', '')),\n",
    "            (Leopards.replace(', ', '')),\n",
    "            Lions\n",
    "        ))\n",
    "    except StopIteration:\n",
    "        break"
   ]
  },
  {
   "cell_type": "code",
   "execution_count": 5,
   "metadata": {},
   "outputs": [
    {
     "data": {
      "text/plain": [
       "<texttable.Texttable at 0x1413c692b88>"
      ]
     },
     "execution_count": 5,
     "metadata": {},
     "output_type": "execute_result"
    }
   ],
   "source": [
    "table = tt.Texttable()\n",
    "table.add_rows([(None, None, None, None, None)] + data)\n",
    "table.set_cols_align(('c', 'c', 'c', 'c', 'c'))\n",
    "table.header((' State', ' Tigers', ' Elephants', ' Leopards', ' Lions'))"
   ]
  },
  {
   "cell_type": "code",
   "execution_count": 6,
   "metadata": {},
   "outputs": [
    {
     "name": "stdout",
     "output_type": "stream",
     "text": [
      "+-------------------+---------+------------+-----------+--------+\n",
      "|       State       |  Tigers |  Elephants |  Leopards |  Lions |\n",
      "+===================+=========+============+===========+========+\n",
      "|  Andhra Pradesh   |   58    |     80     |    343    |   0    |\n",
      "+-------------------+---------+------------+-----------+--------+\n",
      "| Arunachal Pradesh |   29    |    1614    |    489    |   0    |\n",
      "+-------------------+---------+------------+-----------+--------+\n",
      "|       Assam       |   190   |    5719    |   2,487   |   0    |\n",
      "+-------------------+---------+------------+-----------+--------+\n",
      "|       Bihar       |   31    |     25     |    32     |   0    |\n",
      "+-------------------+---------+------------+-----------+--------+\n",
      "|   Chhattisgarh    |   19    |    247     |    846    |   0    |\n",
      "+-------------------+---------+------------+-----------+--------+\n",
      "|        Goa        |    3    |     0      |    71     |   0    |\n",
      "+-------------------+---------+------------+-----------+--------+\n",
      "|      Gujarat      |    0    |     0      |   1,355   |  650   |\n",
      "+-------------------+---------+------------+-----------+--------+\n",
      "|     Jharkhand     |    5    |    1986    |    29     |   0    |\n",
      "+-------------------+---------+------------+-----------+--------+\n",
      "|     Karnataka     |   524   |    6049    |   1,129   |   0    |\n",
      "+-------------------+---------+------------+-----------+--------+\n",
      "|      Kerala       |   190   |    5706    |    472    |   0    |\n",
      "+-------------------+---------+------------+-----------+--------+\n",
      "|  Madhya Pradesh   |   526   |     7      |   1,817   |   0    |\n",
      "+-------------------+---------+------------+-----------+--------+\n",
      "|    Maharashtra    |   312   |     6      |    905    |   0    |\n",
      "+-------------------+---------+------------+-----------+--------+\n",
      "|     Meghalaya     |    0    |    1754    |     0     |   0    |\n",
      "+-------------------+---------+------------+-----------+--------+\n",
      "|      Mizoram      |    0    |     7      |     0     |   0    |\n",
      "+-------------------+---------+------------+-----------+--------+\n",
      "|     Nagaland      |    0    |    446     |     0     |   0    |\n",
      "+-------------------+---------+------------+-----------+--------+\n",
      "|      Odisha       |   28    |    1976    |    345    |   0    |\n",
      "+-------------------+---------+------------+-----------+--------+\n",
      "|     Rajasthan     |   69    |     0      |    434    |   0    |\n",
      "+-------------------+---------+------------+-----------+--------+\n",
      "|    Tamil Nadu     |   264   |    2761    |    815    |   0    |\n",
      "+-------------------+---------+------------+-----------+--------+\n",
      "|      Tripura      |    0    |    102     |     0     |   0    |\n",
      "+-------------------+---------+------------+-----------+--------+\n",
      "|   Uttar Pradesh   |   173   |    232     |    194    |   0    |\n",
      "+-------------------+---------+------------+-----------+--------+\n",
      "|    Uttarakhand    |   442   |    1839    |    703    |   0    |\n",
      "+-------------------+---------+------------+-----------+--------+\n",
      "|    West Bengal    |   88    |    194     |     0     |   0    |\n",
      "+-------------------+---------+------------+-----------+--------+\n",
      "|       Total       |  2,967  |   29,964   |  12,466   |  650   |\n",
      "|                   |         |            |           |        |\n",
      "+-------------------+---------+------------+-----------+--------+\n"
     ]
    }
   ],
   "source": [
    "print(table.draw())"
   ]
  },
  {
   "cell_type": "code",
   "execution_count": 9,
   "metadata": {},
   "outputs": [],
   "source": [
    "with open('numOfTigers.csv', 'w') as csv_file:\n",
    "        writer = csv.writer(csv_file)\n",
    "        writer.writerow(header)\n",
    "        #for row in data[1]:\n",
    "        data1 = soup.find_all('td')\n",
    "        writer.writerow(data)\n"
   ]
  },
  {
   "cell_type": "code",
   "execution_count": null,
   "metadata": {},
   "outputs": [],
   "source": []
  }
 ],
 "metadata": {
  "kernelspec": {
   "display_name": "Python 3",
   "language": "python",
   "name": "python3"
  },
  "language_info": {
   "codemirror_mode": {
    "name": "ipython",
    "version": 3
   },
   "file_extension": ".py",
   "mimetype": "text/x-python",
   "name": "python",
   "nbconvert_exporter": "python",
   "pygments_lexer": "ipython3",
   "version": "3.7.6"
  }
 },
 "nbformat": 4,
 "nbformat_minor": 4
}
