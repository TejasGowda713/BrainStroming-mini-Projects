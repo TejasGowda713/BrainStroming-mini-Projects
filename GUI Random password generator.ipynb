{
 "cells": [
  {
   "cell_type": "code",
   "execution_count": 113,
   "metadata": {},
   "outputs": [],
   "source": [
    "import random\n",
    "import tkinter as tk\n",
    "import tkinter.ttk as ttk\n",
    "from tkinter.messagebox import showinfo"
   ]
  },
  {
   "cell_type": "code",
   "execution_count": 114,
   "metadata": {},
   "outputs": [],
   "source": [
    "\n",
    "win = tk.Tk()\n",
    "win.title(\"Password Generator\")\n",
    "def generate():\n",
    "    string = entry.get()\n",
    "    length = int(entry2.get())\n",
    "    password = ''\n",
    "    for i in range(0,length):\n",
    "        password = password + random.choice(string)\n",
    "    showinfo(\"Generated Passwords\",f\" Your Password: {password}\")"
   ]
  },
  {
   "cell_type": "code",
   "execution_count": 112,
   "metadata": {
    "scrolled": true
   },
   "outputs": [],
   "source": [
    "#global entry,entry2\n",
    "\n",
    "label = tk.Label(win , text=\"Enter String: \")\n",
    "label.grid(row=0,column=0,padx=8,pady=8)\n",
    "\n",
    "entry = tk.Entry(win)\n",
    "entry.grid(row=0,column=1,padx=8)\n",
    "\n",
    "label1 = tk.Label(win , text=\"Enter Length: \")\n",
    "label1.grid(row=1,column=0,padx=8,pady=8)\n",
    "\n",
    "entry2 = tk.Entry(win)\n",
    "entry2.grid(row=1,column=1,padx=8)\n",
    "\n",
    "button = tk.Button(win,text=\"Generate\",command=generate)\n",
    "button.grid(row=2,column=0,columnspan=2,padx=8)\n",
    "\n",
    "win.mainloop()"
   ]
  },
  {
   "cell_type": "code",
   "execution_count": null,
   "metadata": {},
   "outputs": [],
   "source": []
  },
  {
   "cell_type": "code",
   "execution_count": null,
   "metadata": {},
   "outputs": [],
   "source": []
  }
 ],
 "metadata": {
  "kernelspec": {
   "display_name": "Python 3",
   "language": "python",
   "name": "python3"
  },
  "language_info": {
   "codemirror_mode": {
    "name": "ipython",
    "version": 3
   },
   "file_extension": ".py",
   "mimetype": "text/x-python",
   "name": "python",
   "nbconvert_exporter": "python",
   "pygments_lexer": "ipython3",
   "version": "3.7.6"
  }
 },
 "nbformat": 4,
 "nbformat_minor": 4
}
